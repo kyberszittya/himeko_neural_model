{
 "cells": [
  {
   "cell_type": "markdown",
   "source": [
    "# Road profile generation (ISO)\n",
    "\n",
    "Road profile generation according to ISO profile generation\n",
    "\n",
    "More information: Handbook of Vehicle-Road Interaction (David Cebon) - , ISBN 90 265 1554 5\n",
    "\n",
    "Chapter 3: Road profile topology "
   ],
   "metadata": {
    "collapsed": false
   },
   "id": "f52df8a4433a543"
  },
  {
   "cell_type": "code",
   "execution_count": 2,
   "id": "initial_id",
   "metadata": {
    "collapsed": true,
    "ExecuteTime": {
     "end_time": "2023-11-04T18:28:58.116653600Z",
     "start_time": "2023-11-04T18:28:57.174040400Z"
    }
   },
   "outputs": [],
   "source": [
    "import numpy as np\n",
    "import matplotlib.pyplot as plt"
   ]
  },
  {
   "cell_type": "code",
   "execution_count": 3,
   "outputs": [
    {
     "data": {
      "text/plain": "0.0256"
     },
     "execution_count": 3,
     "metadata": {},
     "output_type": "execute_result"
    }
   ],
   "source": [],
   "metadata": {
    "collapsed": false,
    "ExecuteTime": {
     "end_time": "2023-11-04T18:28:58.129162300Z",
     "start_time": "2023-11-04T18:28:58.117652200Z"
    }
   },
   "id": "835b197d1ff7d43"
  },
  {
   "cell_type": "code",
   "execution_count": 4,
   "outputs": [
    {
     "data": {
      "text/plain": "0.0625"
     },
     "execution_count": 4,
     "metadata": {},
     "output_type": "execute_result"
    }
   ],
   "source": [],
   "metadata": {
    "collapsed": false,
    "ExecuteTime": {
     "end_time": "2023-11-04T18:29:03.422853400Z",
     "start_time": "2023-11-04T18:29:03.386733300Z"
    }
   },
   "id": "120113a98208142c"
  },
  {
   "cell_type": "code",
   "execution_count": null,
   "outputs": [],
   "source": [],
   "metadata": {
    "collapsed": false
   },
   "id": "cac1a4e289795727"
  }
 ],
 "metadata": {
  "kernelspec": {
   "display_name": "Python 3",
   "language": "python",
   "name": "python3"
  },
  "language_info": {
   "codemirror_mode": {
    "name": "ipython",
    "version": 2
   },
   "file_extension": ".py",
   "mimetype": "text/x-python",
   "name": "python",
   "nbconvert_exporter": "python",
   "pygments_lexer": "ipython2",
   "version": "2.7.6"
  }
 },
 "nbformat": 4,
 "nbformat_minor": 5
}
