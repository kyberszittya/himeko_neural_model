{
 "cells": [
  {
   "cell_type": "code",
   "execution_count": null,
   "outputs": [],
   "source": [],
   "metadata": {
    "collapsed": false
   },
   "id": "9d096500f9e6ca75"
  },
  {
   "cell_type": "code",
   "execution_count": 1,
   "outputs": [],
   "source": [
    "%matplotlib notebook"
   ],
   "metadata": {
    "collapsed": false,
    "ExecuteTime": {
     "end_time": "2024-12-10T15:31:42.619755600Z",
     "start_time": "2024-12-10T15:31:42.026420Z"
    }
   },
   "id": "87a180373f0c9ff3"
  },
  {
   "cell_type": "code",
   "execution_count": 13,
   "id": "initial_id",
   "metadata": {
    "collapsed": true,
    "ExecuteTime": {
     "end_time": "2024-12-10T16:51:50.500407400Z",
     "start_time": "2024-12-10T16:51:18.464403500Z"
    }
   },
   "outputs": [
    {
     "name": "stderr",
     "output_type": "stream",
     "text": [
      "MovieWriter imagemagick unavailable; using Pillow instead.\n"
     ]
    }
   ],
   "source": [
    "import numpy as np\n",
    "import matplotlib.pyplot as plt\n",
    "import matplotlib.animation as animation\n",
    "from matplotlib.colors import ListedColormap\n",
    "import os\n",
    "\n",
    "# Gridworld setup\n",
    "class GridWorld:\n",
    "    def __init__(self, grid_size, start, goal, obstacles, max_steps):\n",
    "        self.grid_size = grid_size\n",
    "        self.start = start\n",
    "        self.goal = goal\n",
    "        self.obstacles = obstacles\n",
    "        self.state = start\n",
    "        self.max_steps = max_steps\n",
    "        self.steps = 0\n",
    "\n",
    "    def reset(self):\n",
    "        self.state = self.start\n",
    "        self.steps = 0\n",
    "        return self.state\n",
    "\n",
    "    def step(self, action):\n",
    "        self.steps += 1\n",
    "        x, y = self.state\n",
    "        if action == 0:   # Up\n",
    "            y = max(y - 1, 0)\n",
    "        elif action == 1: # Right\n",
    "            x = min(x + 1, self.grid_size[0] - 1)\n",
    "        elif action == 2: # Down\n",
    "            y = min(y + 1, self.grid_size[1] - 1)\n",
    "        elif action == 3: # Left\n",
    "            x = max(x - 1, 0)\n",
    "\n",
    "        next_state = (x, y)\n",
    "\n",
    "        # Reward and termination\n",
    "        if next_state == self.goal:\n",
    "            return next_state, 1, True\n",
    "        elif next_state in self.obstacles or self.steps >= self.max_steps:\n",
    "            return next_state, -1, True\n",
    "        else:\n",
    "            return next_state, 0, False\n",
    "\n",
    "# SARSA Algorithm\n",
    "class SARSA:\n",
    "    def __init__(self, env, alpha=0.1, gamma=0.9, epsilon=0.1):\n",
    "        self.env = env\n",
    "        self.q_table = np.zeros((*env.grid_size, 4))\n",
    "        self.alpha = alpha\n",
    "        self.gamma = gamma\n",
    "        self.epsilon = epsilon\n",
    "\n",
    "    def choose_action(self, state):\n",
    "        if np.random.rand() < self.epsilon:\n",
    "            return np.random.choice(4)\n",
    "        else:\n",
    "            return np.argmax(self.q_table[state])\n",
    "\n",
    "    def train(self, episodes):\n",
    "        rewards = []\n",
    "        frames = []\n",
    "\n",
    "        for episode in range(episodes):\n",
    "            state = self.env.reset()\n",
    "            action = self.choose_action(state)\n",
    "            total_reward = 0\n",
    "            done = False\n",
    "\n",
    "            episode_frames = []\n",
    "            while not done:\n",
    "                next_state, reward, done = self.env.step(action)\n",
    "                next_action = self.choose_action(next_state)\n",
    "\n",
    "                # SARSA update\n",
    "                self.q_table[state][action] += self.alpha * (\n",
    "                        reward + self.gamma * self.q_table[next_state][next_action] - self.q_table[state][action]\n",
    "                )\n",
    "\n",
    "                # Log visualization frame\n",
    "                episode_frames.append((state, reward))\n",
    "\n",
    "                state, action = next_state, next_action\n",
    "                total_reward += reward\n",
    "\n",
    "            rewards.append(total_reward)\n",
    "            frames.append(episode_frames)\n",
    "\n",
    "        return rewards, frames\n",
    "\n",
    "# Visualization function\n",
    "def visualize(frames, grid_size, start, goal, obstacles, output_file=\"gridworld.gif\"):\n",
    "    fig, ax = plt.subplots()\n",
    "    cmap = ListedColormap([\"white\", \"black\", \"green\", \"red\"])\n",
    "    grid = np.zeros(grid_size)\n",
    "    grid[start] = 2\n",
    "    grid[goal] = 3\n",
    "    for obs in obstacles:\n",
    "        grid[obs] = 1\n",
    "\n",
    "    ims = []\n",
    "    for episode_frames in frames:\n",
    "        for state, reward in episode_frames:\n",
    "            grid_img = grid.copy()\n",
    "            grid_img[state] = 4\n",
    "            im = plt.imshow(grid_img, cmap=cmap, animated=True)\n",
    "            ax.set_title(f\"Reward: {reward}\")\n",
    "            ims.append([im])\n",
    "\n",
    "    ani = animation.ArtistAnimation(fig, ims, interval=300, blit=True, repeat_delay=1000)\n",
    "    ani.save(output_file, writer=\"imagemagick\")\n",
    "    plt.close()\n",
    "\n",
    "# Create and train the environment\n",
    "if __name__ == \"__main__\":\n",
    "    grid_size = (5, 5)\n",
    "    start = (0, 0)\n",
    "    goal = (4, 4)\n",
    "    obstacles = [(1, 1), (2, 2), (3, 3)]\n",
    "    max_steps = 50\n",
    "\n",
    "    env = GridWorld(grid_size, start, goal, obstacles, max_steps)\n",
    "    sarsa = SARSA(env)\n",
    "    rewards, frames = sarsa.train(episodes=10)\n",
    "\n",
    "    # Create visualization\n",
    "    visualize(frames, grid_size, start, goal, obstacles)"
   ]
  },
  {
   "cell_type": "code",
   "execution_count": null,
   "outputs": [],
   "source": [],
   "metadata": {
    "collapsed": false
   },
   "id": "3b2ab886d101129a"
  }
 ],
 "metadata": {
  "kernelspec": {
   "display_name": "Python 3",
   "language": "python",
   "name": "python3"
  },
  "language_info": {
   "codemirror_mode": {
    "name": "ipython",
    "version": 2
   },
   "file_extension": ".py",
   "mimetype": "text/x-python",
   "name": "python",
   "nbconvert_exporter": "python",
   "pygments_lexer": "ipython2",
   "version": "2.7.6"
  }
 },
 "nbformat": 4,
 "nbformat_minor": 5
}
