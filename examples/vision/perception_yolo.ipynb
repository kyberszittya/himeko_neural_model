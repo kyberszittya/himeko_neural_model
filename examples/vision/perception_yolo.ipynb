{
 "cells": [
  {
   "cell_type": "code",
   "execution_count": 1,
   "id": "initial_id",
   "metadata": {
    "collapsed": true,
    "ExecuteTime": {
     "end_time": "2023-11-26T22:45:00.833588700Z",
     "start_time": "2023-11-26T22:44:37.057193600Z"
    }
   },
   "outputs": [
    {
     "name": "stdout",
     "output_type": "stream",
     "text": [
      "Collecting ultralyticsplus\n",
      "  Downloading ultralyticsplus-0.0.28-py3-none-any.whl (11 kB)\n",
      "Requirement already satisfied: huggingface-hub>=0.12.0 in d:\\dev\\envs\\hakiko\\lib\\site-packages (from ultralyticsplus) (0.16.4)\n",
      "Collecting fire (from ultralyticsplus)\n",
      "  Downloading fire-0.5.0.tar.gz (88 kB)\n",
      "     ---------------------------------------- 0.0/88.3 kB ? eta -:--:--\n",
      "     ---------------------------------------- 88.3/88.3 kB 2.4 MB/s eta 0:00:00\n",
      "  Preparing metadata (setup.py): started\n",
      "  Preparing metadata (setup.py): finished with status 'done'\n",
      "Collecting ultralytics<8.0.44,>=8.0.43 (from ultralyticsplus)\n",
      "  Downloading ultralytics-8.0.43-py3-none-any.whl (299 kB)\n",
      "     ---------------------------------------- 0.0/299.6 kB ? eta -:--:--\n",
      "     -------------------------------- ----- 256.0/299.6 kB 7.9 MB/s eta 0:00:01\n",
      "     -------------------------------------- 299.6/299.6 kB 4.7 MB/s eta 0:00:00\n",
      "Collecting sahi<0.12.0,>=0.11.11 (from ultralyticsplus)\n",
      "  Obtaining dependency information for sahi<0.12.0,>=0.11.11 from https://files.pythonhosted.org/packages/0b/da/23f351eb3360e58762f0d1ab2dc8521610cefb9e30e246eb715cbe337a38/sahi-0.11.15-py3-none-any.whl.metadata\n",
      "  Downloading sahi-0.11.15-py3-none-any.whl.metadata (15 kB)\n",
      "Requirement already satisfied: pandas in d:\\dev\\envs\\hakiko\\lib\\site-packages (from ultralyticsplus) (1.5.3)\n",
      "Requirement already satisfied: filelock in d:\\dev\\envs\\hakiko\\lib\\site-packages (from huggingface-hub>=0.12.0->ultralyticsplus) (3.9.0)\n",
      "Requirement already satisfied: fsspec in d:\\dev\\envs\\hakiko\\lib\\site-packages (from huggingface-hub>=0.12.0->ultralyticsplus) (2023.6.0)\n",
      "Requirement already satisfied: requests in d:\\dev\\envs\\hakiko\\lib\\site-packages (from huggingface-hub>=0.12.0->ultralyticsplus) (2.31.0)\n",
      "Requirement already satisfied: tqdm>=4.42.1 in c:\\users\\keret\\appdata\\roaming\\python\\python310\\site-packages (from huggingface-hub>=0.12.0->ultralyticsplus) (4.65.0)\n",
      "Requirement already satisfied: pyyaml>=5.1 in c:\\users\\keret\\appdata\\roaming\\python\\python310\\site-packages (from huggingface-hub>=0.12.0->ultralyticsplus) (6.0)\n",
      "Requirement already satisfied: typing-extensions>=3.7.4.3 in c:\\users\\keret\\appdata\\roaming\\python\\python310\\site-packages (from huggingface-hub>=0.12.0->ultralyticsplus) (4.5.0)\n",
      "Requirement already satisfied: packaging>=20.9 in c:\\users\\keret\\appdata\\roaming\\python\\python310\\site-packages (from huggingface-hub>=0.12.0->ultralyticsplus) (21.3)\n",
      "Collecting opencv-python<=4.8 (from sahi<0.12.0,>=0.11.11->ultralyticsplus)\n",
      "  Using cached opencv_python-4.7.0.72-cp37-abi3-win_amd64.whl (38.2 MB)\n",
      "Collecting shapely>=1.8.0 (from sahi<0.12.0,>=0.11.11->ultralyticsplus)\n",
      "  Obtaining dependency information for shapely>=1.8.0 from https://files.pythonhosted.org/packages/28/32/c404f6d5566025b9d94eef0cc21039b0a4c10a392bad2f81edf778b3c2bc/shapely-2.0.2-cp310-cp310-win_amd64.whl.metadata\n",
      "  Downloading shapely-2.0.2-cp310-cp310-win_amd64.whl.metadata (7.2 kB)\n",
      "Requirement already satisfied: pillow>=8.2.0 in d:\\dev\\envs\\hakiko\\lib\\site-packages (from sahi<0.12.0,>=0.11.11->ultralyticsplus) (9.4.0)\n",
      "Collecting pybboxes==0.1.6 (from sahi<0.12.0,>=0.11.11->ultralyticsplus)\n",
      "  Downloading pybboxes-0.1.6-py3-none-any.whl (24 kB)\n",
      "Collecting terminaltables (from sahi<0.12.0,>=0.11.11->ultralyticsplus)\n",
      "  Downloading terminaltables-3.1.10-py2.py3-none-any.whl (15 kB)\n",
      "Requirement already satisfied: click in d:\\dev\\envs\\hakiko\\lib\\site-packages (from sahi<0.12.0,>=0.11.11->ultralyticsplus) (8.0.4)\n",
      "Requirement already satisfied: numpy in d:\\dev\\envs\\hakiko\\lib\\site-packages (from pybboxes==0.1.6->sahi<0.12.0,>=0.11.11->ultralyticsplus) (1.25.2)\n",
      "Requirement already satisfied: matplotlib>=3.2.2 in d:\\dev\\envs\\hakiko\\lib\\site-packages (from ultralytics<8.0.44,>=8.0.43->ultralyticsplus) (3.7.1)\n",
      "Requirement already satisfied: scipy>=1.4.1 in d:\\dev\\envs\\hakiko\\lib\\site-packages (from ultralytics<8.0.44,>=8.0.43->ultralyticsplus) (1.11.1)\n",
      "Requirement already satisfied: torch>=1.7.0 in d:\\dev\\envs\\hakiko\\lib\\site-packages (from ultralytics<8.0.44,>=8.0.43->ultralyticsplus) (2.0.1)\n",
      "Requirement already satisfied: torchvision>=0.8.1 in d:\\dev\\envs\\hakiko\\lib\\site-packages (from ultralytics<8.0.44,>=8.0.43->ultralyticsplus) (0.15.2)\n",
      "Collecting tensorboard>=2.4.1 (from ultralytics<8.0.44,>=8.0.43->ultralyticsplus)\n",
      "  Obtaining dependency information for tensorboard>=2.4.1 from https://files.pythonhosted.org/packages/6e/0c/1059a6682cf2cc1fcc0d5327837b5672fe4f5574255fa5430d0a8ceb75e9/tensorboard-2.15.1-py3-none-any.whl.metadata\n",
      "  Downloading tensorboard-2.15.1-py3-none-any.whl.metadata (1.7 kB)\n",
      "Requirement already satisfied: seaborn>=0.11.0 in d:\\dev\\envs\\hakiko\\lib\\site-packages (from ultralytics<8.0.44,>=8.0.43->ultralyticsplus) (0.12.2)\n",
      "Requirement already satisfied: psutil in d:\\dev\\envs\\hakiko\\lib\\site-packages (from ultralytics<8.0.44,>=8.0.43->ultralyticsplus) (5.9.0)\n",
      "Collecting thop>=0.1.1 (from ultralytics<8.0.44,>=8.0.43->ultralyticsplus)\n",
      "  Downloading thop-0.1.1.post2209072238-py3-none-any.whl (15 kB)\n",
      "Requirement already satisfied: wheel>=0.38.0 in d:\\dev\\envs\\hakiko\\lib\\site-packages (from ultralytics<8.0.44,>=8.0.43->ultralyticsplus) (0.38.4)\n",
      "Collecting sentry-sdk (from ultralytics<8.0.44,>=8.0.43->ultralyticsplus)\n",
      "  Obtaining dependency information for sentry-sdk from https://files.pythonhosted.org/packages/32/71/998e4dd00b7853c20e1cdaabcdca1bee31ca6b87d9866bb906ac1f9d2513/sentry_sdk-1.37.1-py2.py3-none-any.whl.metadata\n",
      "  Downloading sentry_sdk-1.37.1-py2.py3-none-any.whl.metadata (9.7 kB)\n",
      "Requirement already satisfied: python-dateutil>=2.8.1 in c:\\users\\keret\\appdata\\roaming\\python\\python310\\site-packages (from pandas->ultralyticsplus) (2.8.2)\n",
      "Requirement already satisfied: pytz>=2020.1 in d:\\dev\\envs\\hakiko\\lib\\site-packages (from pandas->ultralyticsplus) (2022.7)\n",
      "Requirement already satisfied: six in d:\\dev\\envs\\hakiko\\lib\\site-packages (from fire->ultralyticsplus) (1.16.0)\n",
      "Collecting termcolor (from fire->ultralyticsplus)\n",
      "  Using cached termcolor-2.3.0-py3-none-any.whl (6.9 kB)\n",
      "Requirement already satisfied: contourpy>=1.0.1 in d:\\dev\\envs\\hakiko\\lib\\site-packages (from matplotlib>=3.2.2->ultralytics<8.0.44,>=8.0.43->ultralyticsplus) (1.0.5)\n",
      "Requirement already satisfied: cycler>=0.10 in d:\\dev\\envs\\hakiko\\lib\\site-packages (from matplotlib>=3.2.2->ultralytics<8.0.44,>=8.0.43->ultralyticsplus) (0.11.0)\n",
      "Requirement already satisfied: fonttools>=4.22.0 in d:\\dev\\envs\\hakiko\\lib\\site-packages (from matplotlib>=3.2.2->ultralytics<8.0.44,>=8.0.43->ultralyticsplus) (4.25.0)\n",
      "Requirement already satisfied: kiwisolver>=1.0.1 in d:\\dev\\envs\\hakiko\\lib\\site-packages (from matplotlib>=3.2.2->ultralytics<8.0.44,>=8.0.43->ultralyticsplus) (1.4.4)\n",
      "Requirement already satisfied: pyparsing>=2.3.1 in c:\\users\\keret\\appdata\\roaming\\python\\python310\\site-packages (from matplotlib>=3.2.2->ultralytics<8.0.44,>=8.0.43->ultralyticsplus) (3.0.9)\n",
      "Requirement already satisfied: charset-normalizer<4,>=2 in d:\\dev\\envs\\hakiko\\lib\\site-packages (from requests->huggingface-hub>=0.12.0->ultralyticsplus) (2.0.4)\n",
      "Requirement already satisfied: idna<4,>=2.5 in d:\\dev\\envs\\hakiko\\lib\\site-packages (from requests->huggingface-hub>=0.12.0->ultralyticsplus) (3.4)\n",
      "Requirement already satisfied: urllib3<3,>=1.21.1 in d:\\dev\\envs\\hakiko\\lib\\site-packages (from requests->huggingface-hub>=0.12.0->ultralyticsplus) (1.26.16)\n",
      "Requirement already satisfied: certifi>=2017.4.17 in d:\\dev\\envs\\hakiko\\lib\\site-packages (from requests->huggingface-hub>=0.12.0->ultralyticsplus) (2023.7.22)\n",
      "Collecting absl-py>=0.4 (from tensorboard>=2.4.1->ultralytics<8.0.44,>=8.0.43->ultralyticsplus)\n",
      "  Obtaining dependency information for absl-py>=0.4 from https://files.pythonhosted.org/packages/01/e4/dc0a1dcc4e74e08d7abedab278c795eef54a224363bb18f5692f416d834f/absl_py-2.0.0-py3-none-any.whl.metadata\n",
      "  Downloading absl_py-2.0.0-py3-none-any.whl.metadata (2.3 kB)\n",
      "Collecting grpcio>=1.48.2 (from tensorboard>=2.4.1->ultralytics<8.0.44,>=8.0.43->ultralyticsplus)\n",
      "  Obtaining dependency information for grpcio>=1.48.2 from https://files.pythonhosted.org/packages/b5/76/66e3c45c074418b2140a8b520c1fd72d008856bdca54dd84563b0d08d378/grpcio-1.59.3-cp310-cp310-win_amd64.whl.metadata\n",
      "  Downloading grpcio-1.59.3-cp310-cp310-win_amd64.whl.metadata (4.2 kB)\n",
      "Collecting google-auth<3,>=1.6.3 (from tensorboard>=2.4.1->ultralytics<8.0.44,>=8.0.43->ultralyticsplus)\n",
      "  Obtaining dependency information for google-auth<3,>=1.6.3 from https://files.pythonhosted.org/packages/86/a7/75911c13a242735d5aeaca6a272da380335ff4ba5f26d6b2ae20ff682d13/google_auth-2.23.4-py2.py3-none-any.whl.metadata\n",
      "  Downloading google_auth-2.23.4-py2.py3-none-any.whl.metadata (4.7 kB)\n",
      "Collecting google-auth-oauthlib<2,>=0.5 (from tensorboard>=2.4.1->ultralytics<8.0.44,>=8.0.43->ultralyticsplus)\n",
      "  Obtaining dependency information for google-auth-oauthlib<2,>=0.5 from https://files.pythonhosted.org/packages/ce/33/a907b4b67245647746dde8d61e1643ef5d210c88e090d491efd89eff9f95/google_auth_oauthlib-1.1.0-py2.py3-none-any.whl.metadata\n",
      "  Downloading google_auth_oauthlib-1.1.0-py2.py3-none-any.whl.metadata (2.7 kB)\n",
      "Collecting markdown>=2.6.8 (from tensorboard>=2.4.1->ultralytics<8.0.44,>=8.0.43->ultralyticsplus)\n",
      "  Obtaining dependency information for markdown>=2.6.8 from https://files.pythonhosted.org/packages/70/58/2c5a654173937d9f540a4971c569b44dcd55e5424a484d954cdaeebcf79c/Markdown-3.5.1-py3-none-any.whl.metadata\n",
      "  Downloading Markdown-3.5.1-py3-none-any.whl.metadata (7.1 kB)\n",
      "Collecting protobuf<4.24,>=3.19.6 (from tensorboard>=2.4.1->ultralytics<8.0.44,>=8.0.43->ultralyticsplus)\n",
      "  Obtaining dependency information for protobuf<4.24,>=3.19.6 from https://files.pythonhosted.org/packages/80/70/dc63d340d27b8ff22022d7dd14b8d6d68b479a003eacdc4507150a286d9a/protobuf-4.23.4-cp310-abi3-win_amd64.whl.metadata\n",
      "  Downloading protobuf-4.23.4-cp310-abi3-win_amd64.whl.metadata (540 bytes)\n",
      "Requirement already satisfied: setuptools>=41.0.0 in d:\\dev\\envs\\hakiko\\lib\\site-packages (from tensorboard>=2.4.1->ultralytics<8.0.44,>=8.0.43->ultralyticsplus) (68.0.0)\n",
      "Collecting tensorboard-data-server<0.8.0,>=0.7.0 (from tensorboard>=2.4.1->ultralytics<8.0.44,>=8.0.43->ultralyticsplus)\n",
      "  Obtaining dependency information for tensorboard-data-server<0.8.0,>=0.7.0 from https://files.pythonhosted.org/packages/7a/13/e503968fefabd4c6b2650af21e110aa8466fe21432cd7c43a84577a89438/tensorboard_data_server-0.7.2-py3-none-any.whl.metadata\n",
      "  Downloading tensorboard_data_server-0.7.2-py3-none-any.whl.metadata (1.1 kB)\n",
      "Requirement already satisfied: werkzeug>=1.0.1 in d:\\dev\\envs\\hakiko\\lib\\site-packages (from tensorboard>=2.4.1->ultralytics<8.0.44,>=8.0.43->ultralyticsplus) (2.2.3)\n",
      "Requirement already satisfied: sympy in d:\\dev\\envs\\hakiko\\lib\\site-packages (from torch>=1.7.0->ultralytics<8.0.44,>=8.0.43->ultralyticsplus) (1.11.1)\n",
      "Requirement already satisfied: networkx in d:\\dev\\envs\\hakiko\\lib\\site-packages (from torch>=1.7.0->ultralytics<8.0.44,>=8.0.43->ultralyticsplus) (3.1)\n",
      "Requirement already satisfied: jinja2 in d:\\dev\\envs\\hakiko\\lib\\site-packages (from torch>=1.7.0->ultralytics<8.0.44,>=8.0.43->ultralyticsplus) (3.1.2)\n",
      "Requirement already satisfied: colorama in c:\\users\\keret\\appdata\\roaming\\python\\python310\\site-packages (from tqdm>=4.42.1->huggingface-hub>=0.12.0->ultralyticsplus) (0.4.5)\n",
      "Collecting cachetools<6.0,>=2.0.0 (from google-auth<3,>=1.6.3->tensorboard>=2.4.1->ultralytics<8.0.44,>=8.0.43->ultralyticsplus)\n",
      "  Obtaining dependency information for cachetools<6.0,>=2.0.0 from https://files.pythonhosted.org/packages/a2/91/2d843adb9fbd911e0da45fbf6f18ca89d07a087c3daa23e955584f90ebf4/cachetools-5.3.2-py3-none-any.whl.metadata\n",
      "  Downloading cachetools-5.3.2-py3-none-any.whl.metadata (5.2 kB)\n",
      "Collecting pyasn1-modules>=0.2.1 (from google-auth<3,>=1.6.3->tensorboard>=2.4.1->ultralytics<8.0.44,>=8.0.43->ultralyticsplus)\n",
      "  Using cached pyasn1_modules-0.3.0-py2.py3-none-any.whl (181 kB)\n",
      "Collecting rsa<5,>=3.1.4 (from google-auth<3,>=1.6.3->tensorboard>=2.4.1->ultralytics<8.0.44,>=8.0.43->ultralyticsplus)\n",
      "  Using cached rsa-4.9-py3-none-any.whl (34 kB)\n",
      "Collecting requests-oauthlib>=0.7.0 (from google-auth-oauthlib<2,>=0.5->tensorboard>=2.4.1->ultralytics<8.0.44,>=8.0.43->ultralyticsplus)\n",
      "  Using cached requests_oauthlib-1.3.1-py2.py3-none-any.whl (23 kB)\n",
      "Requirement already satisfied: MarkupSafe>=2.1.1 in d:\\dev\\envs\\hakiko\\lib\\site-packages (from werkzeug>=1.0.1->tensorboard>=2.4.1->ultralytics<8.0.44,>=8.0.43->ultralyticsplus) (2.1.1)\n",
      "Requirement already satisfied: mpmath>=0.19 in d:\\dev\\envs\\hakiko\\lib\\site-packages (from sympy->torch>=1.7.0->ultralytics<8.0.44,>=8.0.43->ultralyticsplus) (1.3.0)\n",
      "Collecting pyasn1<0.6.0,>=0.4.6 (from pyasn1-modules>=0.2.1->google-auth<3,>=1.6.3->tensorboard>=2.4.1->ultralytics<8.0.44,>=8.0.43->ultralyticsplus)\n",
      "  Obtaining dependency information for pyasn1<0.6.0,>=0.4.6 from https://files.pythonhosted.org/packages/d1/75/4686d2872bf2fc0b37917cbc8bbf0dd3a5cdb0990799be1b9cbf1e1eb733/pyasn1-0.5.1-py2.py3-none-any.whl.metadata\n",
      "  Downloading pyasn1-0.5.1-py2.py3-none-any.whl.metadata (8.6 kB)\n",
      "Collecting oauthlib>=3.0.0 (from requests-oauthlib>=0.7.0->google-auth-oauthlib<2,>=0.5->tensorboard>=2.4.1->ultralytics<8.0.44,>=8.0.43->ultralyticsplus)\n",
      "  Using cached oauthlib-3.2.2-py3-none-any.whl (151 kB)\n",
      "Downloading sahi-0.11.15-py3-none-any.whl (105 kB)\n",
      "   ---------------------------------------- 0.0/105.4 kB ? eta -:--:--\n",
      "   ---------------------------------------- 105.4/105.4 kB ? eta 0:00:00\n",
      "Downloading shapely-2.0.2-cp310-cp310-win_amd64.whl (1.4 MB)\n",
      "   ---------------------------------------- 0.0/1.4 MB ? eta -:--:--\n",
      "   ----- ---------------------------------- 0.2/1.4 MB 11.5 MB/s eta 0:00:01\n",
      "   -------------------- ------------------- 0.7/1.4 MB 9.1 MB/s eta 0:00:01\n",
      "   --------------------------- ------------ 1.0/1.4 MB 10.2 MB/s eta 0:00:01\n",
      "   -------------------------------------- - 1.4/1.4 MB 8.7 MB/s eta 0:00:01\n",
      "   ---------------------------------------- 1.4/1.4 MB 7.6 MB/s eta 0:00:00\n",
      "Downloading tensorboard-2.15.1-py3-none-any.whl (5.5 MB)\n",
      "   ---------------------------------------- 0.0/5.5 MB ? eta -:--:--\n",
      "   ---------------------------------------- 0.0/5.5 MB 991.0 kB/s eta 0:00:06\n",
      "   --- ------------------------------------ 0.5/5.5 MB 4.7 MB/s eta 0:00:02\n",
      "   ------ --------------------------------- 0.9/5.5 MB 6.1 MB/s eta 0:00:01\n",
      "   --------- ------------------------------ 1.3/5.5 MB 7.0 MB/s eta 0:00:01\n",
      "   ----------- ---------------------------- 1.6/5.5 MB 7.3 MB/s eta 0:00:01\n",
      "   -------------- ------------------------- 2.1/5.5 MB 7.8 MB/s eta 0:00:01\n",
      "   ---------------- ----------------------- 2.3/5.5 MB 7.4 MB/s eta 0:00:01\n",
      "   -------------------- ------------------- 2.8/5.5 MB 7.7 MB/s eta 0:00:01\n",
      "   ---------------------- ----------------- 3.2/5.5 MB 7.8 MB/s eta 0:00:01\n",
      "   ------------------------ --------------- 3.3/5.5 MB 7.6 MB/s eta 0:00:01\n",
      "   --------------------------- ------------ 3.8/5.5 MB 7.6 MB/s eta 0:00:01\n",
      "   ----------------------------- ---------- 4.1/5.5 MB 7.5 MB/s eta 0:00:01\n",
      "   -------------------------------- ------- 4.5/5.5 MB 7.6 MB/s eta 0:00:01\n",
      "   ----------------------------------- ---- 4.9/5.5 MB 7.6 MB/s eta 0:00:01\n",
      "   ------------------------------------- -- 5.2/5.5 MB 7.6 MB/s eta 0:00:01\n",
      "   ---------------------------------------  5.5/5.5 MB 7.5 MB/s eta 0:00:01\n",
      "   ---------------------------------------- 5.5/5.5 MB 7.4 MB/s eta 0:00:00\n",
      "Downloading sentry_sdk-1.37.1-py2.py3-none-any.whl (251 kB)\n",
      "   ---------------------------------------- 0.0/251.7 kB ? eta -:--:--\n",
      "   --------------------------------------- 251.7/251.7 kB 15.1 MB/s eta 0:00:00\n",
      "Downloading absl_py-2.0.0-py3-none-any.whl (130 kB)\n",
      "   ---------------------------------------- 0.0/130.2 kB ? eta -:--:--\n",
      "   ---------------------------------------- 130.2/130.2 kB 7.5 MB/s eta 0:00:00\n",
      "Downloading google_auth-2.23.4-py2.py3-none-any.whl (183 kB)\n",
      "   ---------------------------------------- 0.0/183.3 kB ? eta -:--:--\n",
      "   --------------------------------------- 183.3/183.3 kB 11.5 MB/s eta 0:00:00\n",
      "Downloading google_auth_oauthlib-1.1.0-py2.py3-none-any.whl (19 kB)\n",
      "Downloading grpcio-1.59.3-cp310-cp310-win_amd64.whl (3.7 MB)\n",
      "   ---------------------------------------- 0.0/3.7 MB ? eta -:--:--\n",
      "   --- ------------------------------------ 0.3/3.7 MB 6.8 MB/s eta 0:00:01\n",
      "   ------- -------------------------------- 0.7/3.7 MB 7.0 MB/s eta 0:00:01\n",
      "   ----------- ---------------------------- 1.0/3.7 MB 7.2 MB/s eta 0:00:01\n",
      "   -------------- ------------------------- 1.4/3.7 MB 7.9 MB/s eta 0:00:01\n",
      "   ------------------ --------------------- 1.7/3.7 MB 7.7 MB/s eta 0:00:01\n",
      "   ---------------------- ----------------- 2.0/3.7 MB 7.6 MB/s eta 0:00:01\n",
      "   -------------------------- ------------- 2.4/3.7 MB 7.6 MB/s eta 0:00:01\n",
      "   ---------------------------- ----------- 2.7/3.7 MB 7.7 MB/s eta 0:00:01\n",
      "   -------------------------------- ------- 3.0/3.7 MB 7.3 MB/s eta 0:00:01\n",
      "   ----------------------------------- ---- 3.3/3.7 MB 7.2 MB/s eta 0:00:01\n",
      "   ---------------------------------------  3.6/3.7 MB 7.1 MB/s eta 0:00:01\n",
      "   ---------------------------------------- 3.7/3.7 MB 7.1 MB/s eta 0:00:00\n",
      "Downloading Markdown-3.5.1-py3-none-any.whl (102 kB)\n",
      "   ---------------------------------------- 0.0/102.2 kB ? eta -:--:--\n",
      "   ---------------------------------------- 102.2/102.2 kB 6.1 MB/s eta 0:00:00\n",
      "Downloading protobuf-4.23.4-cp310-abi3-win_amd64.whl (422 kB)\n",
      "   ---------------------------------------- 0.0/422.5 kB ? eta -:--:--\n",
      "   ---------------------------------------- 422.5/422.5 kB 8.8 MB/s eta 0:00:00\n",
      "Downloading tensorboard_data_server-0.7.2-py3-none-any.whl (2.4 kB)\n",
      "Downloading cachetools-5.3.2-py3-none-any.whl (9.3 kB)\n",
      "Downloading pyasn1-0.5.1-py2.py3-none-any.whl (84 kB)\n",
      "   ---------------------------------------- 0.0/84.9 kB ? eta -:--:--\n",
      "   ---------------------------------------- 84.9/84.9 kB 4.7 MB/s eta 0:00:00\n",
      "Building wheels for collected packages: fire\n",
      "  Building wheel for fire (setup.py): started\n",
      "  Building wheel for fire (setup.py): finished with status 'done'\n",
      "  Created wheel for fire: filename=fire-0.5.0-py2.py3-none-any.whl size=116947 sha256=3a0aaaa91ee8ae0228c326acffeeebdbf9d2cc4db1858081fa7189fee1ca7c53\n",
      "  Stored in directory: c:\\users\\keret\\appdata\\local\\pip\\cache\\wheels\\90\\d4\\f7\\9404e5db0116bd4d43e5666eaa3e70ab53723e1e3ea40c9a95\n",
      "Successfully built fire\n",
      "Installing collected packages: terminaltables, termcolor, tensorboard-data-server, shapely, sentry-sdk, pybboxes, pyasn1, protobuf, opencv-python, oauthlib, markdown, grpcio, cachetools, absl-py, rsa, requests-oauthlib, pyasn1-modules, fire, thop, sahi, google-auth, google-auth-oauthlib, tensorboard, ultralytics, ultralyticsplus\n",
      "Successfully installed absl-py-2.0.0 cachetools-5.3.2 fire-0.5.0 google-auth-2.23.4 google-auth-oauthlib-1.1.0 grpcio-1.59.3 markdown-3.5.1 oauthlib-3.2.2 opencv-python-4.7.0.72 protobuf-4.23.4 pyasn1-0.5.1 pyasn1-modules-0.3.0 pybboxes-0.1.6 requests-oauthlib-1.3.1 rsa-4.9 sahi-0.11.15 sentry-sdk-1.37.1 shapely-2.0.2 tensorboard-2.15.1 tensorboard-data-server-0.7.2 termcolor-2.3.0 terminaltables-3.1.10 thop-0.1.1.post2209072238 ultralytics-8.0.43 ultralyticsplus-0.0.28\n"
     ]
    }
   ],
   "source": [
    "!pip install -U ultralyticsplus"
   ]
  },
  {
   "cell_type": "code",
   "execution_count": 2,
   "outputs": [
    {
     "name": "stderr",
     "output_type": "stream",
     "text": [
      "Downloading https://github.com/ultralytics/assets/releases/download/v0.0.0/yolov8s.pt to ultralyticsplus\\yolov8s.pt...\n",
      "100%|██████████| 21.5M/21.5M [00:29<00:00, 772kB/s] \n",
      "Ultralytics YOLOv8.0.43  Python-3.10.12 torch-2.0.1 CUDA:0 (NVIDIA GeForce RTX 3070 Laptop GPU, 8192MiB)\n",
      "YOLOv8s summary (fused): 168 layers, 11156544 parameters, 0 gradients, 28.6 GFLOPs\n",
      "\n",
      "Downloading https://github.com/ultralytics/yolov5/raw/master/data/images/zidane.jpg to zidane.jpg...\n",
      "100%|██████████| 165k/165k [00:00<00:00, 596kB/s] \n",
      "image 1/1 D:\\Hakiko\\himeko_ws\\hypergraph_dataflow_ws\\himeko_neural_model\\examples\\vision\\zidane.jpg: 384x640 2 persons, 1 tie, 112.1ms\n",
      "Speed: 1.5ms preprocess, 112.1ms inference, 19.1ms postprocess per image at shape (1, 3, 640, 640)\n"
     ]
    },
    {
     "name": "stdout",
     "output_type": "stream",
     "text": [
      "tensor([[7.45000e+02, 4.10000e+01, 1.13600e+03, 7.14000e+02, 8.94095e-01, 0.00000e+00],\n",
      "        [1.33000e+02, 2.00000e+02, 1.12700e+03, 7.14000e+02, 8.87141e-01, 0.00000e+00],\n",
      "        [4.38000e+02, 4.34000e+02, 5.31000e+02, 7.18000e+02, 7.40124e-01, 2.70000e+01]], device='cuda:0')\n"
     ]
    }
   ],
   "source": [
    "from ultralyticsplus import YOLO, render_result\n",
    "\n",
    "# load model\n",
    "model = YOLO('ultralyticsplus/yolov8s')\n",
    "\n",
    "# set model parameters\n",
    "model.overrides['conf'] = 0.25  # NMS confidence threshold\n",
    "model.overrides['iou'] = 0.45  # NMS IoU threshold\n",
    "model.overrides['agnostic_nms'] = False  # NMS class-agnostic\n",
    "model.overrides['max_det'] = 1000  # maximum number of detections per image\n",
    "\n",
    "# set image\n",
    "image = 'https://github.com/ultralytics/yolov5/raw/master/data/images/zidane.jpg'\n",
    "\n",
    "# perform inference\n",
    "results = model.predict(image)\n",
    "\n",
    "# observe results\n",
    "print(results[0].boxes)\n",
    "render = render_result(model=model, image=image, result=results[0])\n",
    "render.show()"
   ],
   "metadata": {
    "collapsed": false,
    "ExecuteTime": {
     "end_time": "2023-11-26T22:46:15.804348Z",
     "start_time": "2023-11-26T22:45:16.753367100Z"
    }
   },
   "id": "7ba803d67babaa3d"
  },
  {
   "cell_type": "code",
   "execution_count": 3,
   "outputs": [
    {
     "name": "stderr",
     "output_type": "stream",
     "text": [
      "\n",
      "Downloading https://kep.index.hu/1/0/3947/39477/394773/39477391_5eb1ee61e133d94f26c32a5876b9a67a_wm.jpg to 39477391_5eb1ee61e133d94f26c32a5876b9a67a_wm.jpg...\n",
      "100%|██████████| 504k/504k [00:00<00:00, 5.91MB/s]\n",
      "image 1/1 D:\\Hakiko\\himeko_ws\\hypergraph_dataflow_ws\\himeko_neural_model\\examples\\vision\\39477391_5eb1ee61e133d94f26c32a5876b9a67a_wm.jpg: 448x640 1 dog, 2 donuts, 136.7ms\n",
      "Speed: 4.0ms preprocess, 136.7ms inference, 6.5ms postprocess per image at shape (1, 3, 640, 640)\n"
     ]
    },
    {
     "name": "stdout",
     "output_type": "stream",
     "text": [
      "tensor([[5.87000e+02, 1.10000e+01, 1.03400e+03, 6.78000e+02, 9.35005e-01, 1.60000e+01],\n",
      "        [1.82000e+02, 3.50000e+02, 4.83000e+02, 6.10000e+02, 2.94524e-01, 5.40000e+01],\n",
      "        [4.00000e+00, 3.50000e+02, 6.24000e+02, 7.32000e+02, 2.53200e-01, 5.40000e+01]], device='cuda:0')\n"
     ]
    }
   ],
   "source": [
    "image = 'https://kep.index.hu/1/0/3947/39477/394773/39477391_5eb1ee61e133d94f26c32a5876b9a67a_wm.jpg'\n",
    "\n",
    "# perform inference\n",
    "results = model.predict(image)\n",
    "\n",
    "# observe results\n",
    "print(results[0].boxes)\n",
    "render = render_result(model=model, image=image, result=results[0])\n",
    "render.show()"
   ],
   "metadata": {
    "collapsed": false,
    "ExecuteTime": {
     "end_time": "2023-11-26T23:00:20.192385200Z",
     "start_time": "2023-11-26T22:46:26.754326100Z"
    }
   },
   "id": "d3961c1ca443f0ac"
  },
  {
   "cell_type": "code",
   "execution_count": 4,
   "outputs": [
    {
     "name": "stderr",
     "output_type": "stream",
     "text": [
      "\n",
      "Downloading https://kep.cdn.indexvas.hu/1/0/3947/39477/394773/39477395_a2c28ad784e93d1a92c50d812ac9cb7d_wm.jpg to 39477395_a2c28ad784e93d1a92c50d812ac9cb7d_wm.jpg...\n",
      "100%|██████████| 292k/292k [00:00<00:00, 11.5MB/s]\n",
      "image 1/1 D:\\Hakiko\\himeko_ws\\hypergraph_dataflow_ws\\himeko_neural_model\\examples\\vision\\39477395_a2c28ad784e93d1a92c50d812ac9cb7d_wm.jpg: 544x640 1 person, 1 dog, 145.7ms\n",
      "Speed: 8.0ms preprocess, 145.7ms inference, 2.0ms postprocess per image at shape (1, 3, 640, 640)\n"
     ]
    },
    {
     "name": "stdout",
     "output_type": "stream",
     "text": [
      "tensor([[2.91000e+02, 2.00000e+00, 7.26000e+02, 6.00000e+02, 8.54424e-01, 0.00000e+00],\n",
      "        [1.34000e+02, 3.67000e+02, 3.05000e+02, 5.88000e+02, 4.21428e-01, 1.60000e+01]], device='cuda:0')\n"
     ]
    }
   ],
   "source": [
    "image = \"https://kep.cdn.indexvas.hu/1/0/3947/39477/394773/39477395_a2c28ad784e93d1a92c50d812ac9cb7d_wm.jpg\"\n",
    "\n",
    "# perform inference\n",
    "results = model.predict(image)\n",
    "\n",
    "# observe results\n",
    "print(results[0].boxes)\n",
    "render = render_result(model=model, image=image, result=results[0])\n",
    "render.show()"
   ],
   "metadata": {
    "collapsed": false,
    "ExecuteTime": {
     "end_time": "2023-11-26T23:00:29.477924100Z",
     "start_time": "2023-11-26T23:00:20.192385200Z"
    }
   },
   "id": "fd100599333d0a87"
  },
  {
   "cell_type": "code",
   "execution_count": null,
   "outputs": [],
   "source": [],
   "metadata": {
    "collapsed": false
   },
   "id": "e76e6e9b60d52a62"
  }
 ],
 "metadata": {
  "kernelspec": {
   "display_name": "Python 3",
   "language": "python",
   "name": "python3"
  },
  "language_info": {
   "codemirror_mode": {
    "name": "ipython",
    "version": 2
   },
   "file_extension": ".py",
   "mimetype": "text/x-python",
   "name": "python",
   "nbconvert_exporter": "python",
   "pygments_lexer": "ipython2",
   "version": "2.7.6"
  }
 },
 "nbformat": 4,
 "nbformat_minor": 5
}
